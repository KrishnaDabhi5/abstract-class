{
 "cells": [
  {
   "cell_type": "code",
   "execution_count": 1,
   "id": "33b4585b",
   "metadata": {},
   "outputs": [],
   "source": [
    "import abc\n",
    "class skills:\n",
    "    @abc.abstractmethod\n",
    "    def students_details(self):\n",
    "        pass\n",
    "    \n",
    "    @abc.abstractmethod\n",
    "    def student_assignment(self):\n",
    "        pass\n",
    "    \n",
    "    @abc.abstractmethod\n",
    "    def student_marks(self):\n",
    "        pass"
   ]
  },
  {
   "cell_type": "code",
   "execution_count": 2,
   "id": "3708de7a",
   "metadata": {},
   "outputs": [],
   "source": [
    "class student_details(skills):\n",
    "    \n",
    "    def students_details(self):\n",
    "        return \"this is a meth for taking students details\"\n",
    "    \n",
    "    def student_assignment(self):\n",
    "        return \"this is a meth for assing details for a perticular student\"\n",
    "    "
   ]
  },
  {
   "cell_type": "code",
   "execution_count": 3,
   "id": "72787f63",
   "metadata": {},
   "outputs": [],
   "source": [
    "class data_science_master(skills):\n",
    "    def students_details(self):\n",
    "        return \"this is a meth for taking students details\"\n",
    "    \n",
    "    def student_assignment(self):\n",
    "        return \"this is a meth for assing details for a perticular student\""
   ]
  },
  {
   "cell_type": "code",
   "execution_count": 9,
   "id": "7595e25b",
   "metadata": {},
   "outputs": [
    {
     "data": {
      "text/plain": [
       "'this is a meth for taking students details'"
      ]
     },
     "execution_count": 9,
     "metadata": {},
     "output_type": "execute_result"
    }
   ],
   "source": [
    "dsm=data_science_master()\n",
    "dsm.students_details()"
   ]
  },
  {
   "cell_type": "code",
   "execution_count": 10,
   "id": "f1262d18",
   "metadata": {},
   "outputs": [
    {
     "data": {
      "text/plain": [
       "'this is a meth for taking students details'"
      ]
     },
     "execution_count": 10,
     "metadata": {},
     "output_type": "execute_result"
    }
   ],
   "source": [
    "sd = student_details()\n",
    "sd.students_details()"
   ]
  },
  {
   "cell_type": "code",
   "execution_count": null,
   "id": "bd408633",
   "metadata": {},
   "outputs": [],
   "source": []
  }
 ],
 "metadata": {
  "kernelspec": {
   "display_name": "Python 3 (ipykernel)",
   "language": "python",
   "name": "python3"
  },
  "language_info": {
   "codemirror_mode": {
    "name": "ipython",
    "version": 3
   },
   "file_extension": ".py",
   "mimetype": "text/x-python",
   "name": "python",
   "nbconvert_exporter": "python",
   "pygments_lexer": "ipython3",
   "version": "3.10.8"
  }
 },
 "nbformat": 4,
 "nbformat_minor": 5
}
